{
 "cells": [
  {
   "cell_type": "markdown",
   "id": "e59b607e",
   "metadata": {
    "papermill": {
     "duration": 0.009254,
     "end_time": "2023-04-26T06:50:06.226409",
     "exception": false,
     "start_time": "2023-04-26T06:50:06.217155",
     "status": "completed"
    },
    "tags": []
   },
   "source": [
    "# <center> Mall Customer Segmentation using KMeans Clustering and Parameter Tuning 🛒</center>\n",
    "\n",
    "## <center>[Msc. Diego Hurtado](https://www.linkedin.com/in/diegohurtadoo/)</center>\n",
    "\n",
    "<img src=\"https://github.com/DiegoHurtad0/Mall-Customer-Segmentation-using-KMeans-Clustering-and-Parameter-Tuning/blob/main/figures/segments.png?raw=true\" width=\"700\" height=\"500\">"
   ]
  },
  {
   "cell_type": "markdown",
   "id": "a9cf02db",
   "metadata": {
    "papermill": {
     "duration": 0.010364,
     "end_time": "2023-04-26T06:50:06.246132",
     "exception": false,
     "start_time": "2023-04-26T06:50:06.235768",
     "status": "completed"
    },
    "tags": []
   },
   "source": [
    "# 1 <a id='1'>Introduction</a>\n",
    "[Table of contents](#0.1)\n",
    "\n",
    "\n",
    "The purpose of this dataset is to help us understand customer behavior and purchasing data in a supermarket mall through membership cards. The data includes basic information about customers such as their ID, age, gender, annual income, and spending score. Spending score is a parameter assigned to customers based on their purchasing behavior. The goal of this dataset is to use unsupervised ML techniques, specifically KMeans clustering algorithm, to segment the customers into groups and identify the target customers who are likely to converge. By understanding the customers better, the mall can plan their marketing strategy accordingly and increase their revenue. This dataset is designed for learning purposes and serves as an excellent example of how to use unsupervised machine learning algorithms in practice.\n",
    "\n",
    "**Project Overview**\t\n",
    "The aim of this project is to segment customers of a mall. I am using K-means clustering algorithm to cluster customers based on their features such as age, gender, annual income, and spending score.\n",
    "\n",
    "**Problem Statement and Objective**\n",
    "The mall wants to understand the customer segments to better target marketing efforts and improve sales. The objective of this project is to identify distinct customer segments and provide recommendations to the marketing team to develop targeted marketing strategies.\n",
    "\n",
    "**Model Development and Evaluation**\t\n",
    "K-means clustering algorithm was used to develop the model. The optimal number of clusters was selected using the elbow method and silhouette score. The model was evaluated using within-cluster sum of squares (WCSS) and silhouette score."
   ]
  },
  {
   "cell_type": "markdown",
   "id": "9c402298",
   "metadata": {
    "papermill": {
     "duration": 0.006912,
     "end_time": "2023-04-26T06:50:06.260386",
     "exception": false,
     "start_time": "2023-04-26T06:50:06.253474",
     "status": "completed"
    },
    "tags": []
   },
   "source": [
    "# Table of Contents Diego 👨🏻‍💻<a id='0.1'></a>\n",
    "\n",
    "* [Introduction](#1)\n",
    "* [Data Modeling ](#2)\n",
    "    * [Import Packages](#2.1)\n",
    "* [ Segmentation ](#3)\n",
    "    * [Data](#3.1)\n",
    "    * [Optimal number of clusters ](#3.2)\n",
    "    * [Parameter Grid](#3.3)\n",
    "    * [KMeans](#3.3)\n",
    "    * [Hierarchical Clustering](#3.4)"
   ]
  },
  {
   "cell_type": "markdown",
   "id": "a4b261f6",
   "metadata": {
    "papermill": {
     "duration": 0.006957,
     "end_time": "2023-04-26T06:50:06.274572",
     "exception": false,
     "start_time": "2023-04-26T06:50:06.267615",
     "status": "completed"
    },
    "tags": []
   },
   "source": [
    "# 2 <a id='2'> Data Modeling 📚</a>\n",
    "[Table of contents](#0.1)"
   ]
  },
  {
   "cell_type": "markdown",
   "id": "5da00b8f",
   "metadata": {
    "papermill": {
     "duration": 0.006892,
     "end_time": "2023-04-26T06:50:06.288732",
     "exception": false,
     "start_time": "2023-04-26T06:50:06.281840",
     "status": "completed"
    },
    "tags": []
   },
   "source": [
    "# 2.1 <a id='2.1'>Import Packages🔍</a>\n",
    "[Table of contents](#0.1)"
   ]
  },
  {
   "cell_type": "code",
   "execution_count": 1,
   "id": "c8316eee",
   "metadata": {
    "execution": {
     "iopub.execute_input": "2023-04-26T06:50:06.305692Z",
     "iopub.status.busy": "2023-04-26T06:50:06.305139Z",
     "iopub.status.idle": "2023-04-26T06:50:18.535551Z",
     "shell.execute_reply": "2023-04-26T06:50:18.534125Z"
    },
    "papermill": {
     "duration": 12.242319,
     "end_time": "2023-04-26T06:50:18.538260",
     "exception": false,
     "start_time": "2023-04-26T06:50:06.295941",
     "status": "completed"
    },
    "tags": []
   },
   "outputs": [
    {
     "name": "stdout",
     "output_type": "stream",
     "text": [
      "Collecting gap-stat\r\n",
      "  Downloading gap_stat-2.0.2-py3-none-any.whl (6.9 kB)\r\n",
      "Requirement already satisfied: numpy in /opt/conda/lib/python3.7/site-packages (from gap-stat) (1.21.6)\r\n",
      "Requirement already satisfied: scipy in /opt/conda/lib/python3.7/site-packages (from gap-stat) (1.7.3)\r\n",
      "Requirement already satisfied: pandas in /opt/conda/lib/python3.7/site-packages (from gap-stat) (1.3.5)\r\n",
      "Requirement already satisfied: pytz>=2017.3 in /opt/conda/lib/python3.7/site-packages (from pandas->gap-stat) (2022.7.1)\r\n",
      "Requirement already satisfied: python-dateutil>=2.7.3 in /opt/conda/lib/python3.7/site-packages (from pandas->gap-stat) (2.8.2)\r\n",
      "Requirement already satisfied: six>=1.5 in /opt/conda/lib/python3.7/site-packages (from python-dateutil>=2.7.3->pandas->gap-stat) (1.16.0)\r\n",
      "Installing collected packages: gap-stat\r\n",
      "Successfully installed gap-stat-2.0.2\r\n",
      "\u001b[33mWARNING: Running pip as the 'root' user can result in broken permissions and conflicting behaviour with the system package manager. It is recommended to use a virtual environment instead: https://pip.pypa.io/warnings/venv\u001b[0m\u001b[33m\r\n",
      "\u001b[0mNote: you may need to restart the kernel to use updated packages.\n"
     ]
    }
   ],
   "source": [
    "pip install gap-stat"
   ]
  },
  {
   "cell_type": "code",
   "execution_count": 2,
   "id": "fd3798a9",
   "metadata": {
    "execution": {
     "iopub.execute_input": "2023-04-26T06:50:18.555406Z",
     "iopub.status.busy": "2023-04-26T06:50:18.554961Z",
     "iopub.status.idle": "2023-04-26T06:50:21.883020Z",
     "shell.execute_reply": "2023-04-26T06:50:21.881681Z"
    },
    "papermill": {
     "duration": 3.340128,
     "end_time": "2023-04-26T06:50:21.885945",
     "exception": false,
     "start_time": "2023-04-26T06:50:18.545817",
     "status": "completed"
    },
    "tags": []
   },
   "outputs": [],
   "source": [
    "# <>===============================================================<> \n",
    "\n",
    "import numpy as np\n",
    "import pandas as pd\n",
    "\n",
    "# <>===============================================================<>  \n",
    "from scipy import stats\n",
    "import statistics\n",
    "\n",
    "from sklearn.model_selection import train_test_split, GridSearchCV\n",
    "from sklearn.cluster import KMeans\n",
    "from sklearn.preprocessing import StandardScaler, MinMaxScaler\n",
    "from scipy.cluster.hierarchy import dendrogram, linkage\n",
    "from sklearn.cluster import AgglomerativeClustering\n",
    "import scipy.cluster.hierarchy as shc\n",
    "from sklearn.cluster import DBSCAN\n",
    "\n",
    "from sklearn.metrics import silhouette_samples, silhouette_score\n",
    "from sklearn.cluster import KMeans\n",
    "from gap_statistic import OptimalK\n",
    "# <>===============================================================<>  \n",
    "\n",
    "import matplotlib.pyplot as plt\n",
    "import matplotlib.cm as cm\n",
    "import seaborn as sns\n",
    "import plotly.express as px\n",
    "\n",
    "plt.rcParams[\"figure.figsize\"] = [16, 8]\n",
    "\n",
    "width = 900\n",
    "height = 600\n",
    "\n",
    "bg_color = '#FFFFFF'\n",
    "paper_bg = '#FFFFFF'\n",
    "\n",
    "plt.rcParams.update({'font.size': 18})\n",
    "color_charts = '#2baae2'\n",
    "plt.style.use('ggplot')\n",
    "color = '#16171f'\n",
    "plt.rcParams['text.color'] = color\n",
    "plt.rcParams['axes.labelcolor'] = color\n",
    "plt.rcParams['xtick.color'] = color\n",
    "plt.rcParams['ytick.color'] = color\n",
    "\n",
    "plt.rcParams.update({'text.color' : color,\n",
    "                             'axes.labelcolor' : color})\n",
    "\n",
    "plt.rcParams.update({'font.size': 17})\n",
    "plt.rc('font', size=17)\n",
    "\n",
    "\n",
    "#Default theme\n",
    "sns.set_theme(palette='tab10',\n",
    "              rc=None)\n",
    "\n",
    "\n",
    "%matplotlib inline\n",
    "\n",
    "# <>===============================================================<>  \n",
    "\n",
    "import warnings\n",
    "warnings.simplefilter(action='ignore', category=FutureWarning)\n",
    "\n",
    "import warnings\n",
    "warnings.filterwarnings(\"ignore\")\n",
    "\n",
    "pd.set_option(\"display.max_columns\",None)\n",
    "pd.set_option(\"display.max_rows\",None)"
   ]
  },
  {
   "cell_type": "markdown",
   "id": "37ee7f4a",
   "metadata": {
    "papermill": {
     "duration": 0.007344,
     "end_time": "2023-04-26T06:50:21.902173",
     "exception": false,
     "start_time": "2023-04-26T06:50:21.894829",
     "status": "completed"
    },
    "tags": []
   },
   "source": [
    "# 3.1 <a id='3.1'> Data 🛒</a>\n",
    "[Table of contents](#0.1)"
   ]
  },
  {
   "cell_type": "code",
   "execution_count": 3,
   "id": "48f914ae",
   "metadata": {
    "execution": {
     "iopub.execute_input": "2023-04-26T06:50:21.919806Z",
     "iopub.status.busy": "2023-04-26T06:50:21.918803Z",
     "iopub.status.idle": "2023-04-26T06:50:21.954318Z",
     "shell.execute_reply": "2023-04-26T06:50:21.953511Z"
    },
    "papermill": {
     "duration": 0.046645,
     "end_time": "2023-04-26T06:50:21.956547",
     "exception": false,
     "start_time": "2023-04-26T06:50:21.909902",
     "status": "completed"
    },
    "tags": []
   },
   "outputs": [
    {
     "data": {
      "text/html": [
       "<div>\n",
       "<style scoped>\n",
       "    .dataframe tbody tr th:only-of-type {\n",
       "        vertical-align: middle;\n",
       "    }\n",
       "\n",
       "    .dataframe tbody tr th {\n",
       "        vertical-align: top;\n",
       "    }\n",
       "\n",
       "    .dataframe thead th {\n",
       "        text-align: right;\n",
       "    }\n",
       "</style>\n",
       "<table border=\"1\" class=\"dataframe\">\n",
       "  <thead>\n",
       "    <tr style=\"text-align: right;\">\n",
       "      <th></th>\n",
       "      <th>CustomerID</th>\n",
       "      <th>Gender</th>\n",
       "      <th>Age</th>\n",
       "      <th>Annual Income (k$)</th>\n",
       "      <th>Spending Score (1-100)</th>\n",
       "    </tr>\n",
       "  </thead>\n",
       "  <tbody>\n",
       "    <tr>\n",
       "      <th>0</th>\n",
       "      <td>1</td>\n",
       "      <td>Male</td>\n",
       "      <td>19</td>\n",
       "      <td>15</td>\n",
       "      <td>39</td>\n",
       "    </tr>\n",
       "    <tr>\n",
       "      <th>1</th>\n",
       "      <td>2</td>\n",
       "      <td>Male</td>\n",
       "      <td>21</td>\n",
       "      <td>15</td>\n",
       "      <td>81</td>\n",
       "    </tr>\n",
       "    <tr>\n",
       "      <th>2</th>\n",
       "      <td>3</td>\n",
       "      <td>Female</td>\n",
       "      <td>20</td>\n",
       "      <td>16</td>\n",
       "      <td>6</td>\n",
       "    </tr>\n",
       "    <tr>\n",
       "      <th>3</th>\n",
       "      <td>4</td>\n",
       "      <td>Female</td>\n",
       "      <td>23</td>\n",
       "      <td>16</td>\n",
       "      <td>77</td>\n",
       "    </tr>\n",
       "    <tr>\n",
       "      <th>4</th>\n",
       "      <td>5</td>\n",
       "      <td>Female</td>\n",
       "      <td>31</td>\n",
       "      <td>17</td>\n",
       "      <td>40</td>\n",
       "    </tr>\n",
       "  </tbody>\n",
       "</table>\n",
       "</div>"
      ],
      "text/plain": [
       "   CustomerID  Gender  Age  Annual Income (k$)  Spending Score (1-100)\n",
       "0           1    Male   19                  15                      39\n",
       "1           2    Male   21                  15                      81\n",
       "2           3  Female   20                  16                       6\n",
       "3           4  Female   23                  16                      77\n",
       "4           5  Female   31                  17                      40"
      ]
     },
     "execution_count": 3,
     "metadata": {},
     "output_type": "execute_result"
    }
   ],
   "source": [
    "df = pd.read_csv('/kaggle/input/customer-segmentation-tutorial-in-python/Mall_Customers.csv')\n",
    "df.head()"
   ]
  },
  {
   "cell_type": "markdown",
   "id": "bdb1866e",
   "metadata": {
    "papermill": {
     "duration": 0.008017,
     "end_time": "2023-04-26T06:50:21.972765",
     "exception": false,
     "start_time": "2023-04-26T06:50:21.964748",
     "status": "completed"
    },
    "tags": []
   },
   "source": [
    "# 3.2 <a id='3.2'> Optimal number of clusters </a>\n",
    "[Table of contents](#0.1)"
   ]
  },
  {
   "cell_type": "code",
   "execution_count": 4,
   "id": "5fe9e07d",
   "metadata": {
    "execution": {
     "iopub.execute_input": "2023-04-26T06:50:21.991080Z",
     "iopub.status.busy": "2023-04-26T06:50:21.990263Z",
     "iopub.status.idle": "2023-04-26T06:50:24.616656Z",
     "shell.execute_reply": "2023-04-26T06:50:24.614887Z"
    },
    "papermill": {
     "duration": 2.638266,
     "end_time": "2023-04-26T06:50:24.619326",
     "exception": false,
     "start_time": "2023-04-26T06:50:21.981060",
     "status": "completed"
    },
    "tags": []
   },
   "outputs": [
    {
     "name": "stdout",
     "output_type": "stream",
     "text": [
      "Optimal number of clusters based on gap statistic: 6\n"
     ]
    }
   ],
   "source": [
    "X = df[['Age' , 'Annual Income (k$)' ,'Spending Score (1-100)']].iloc[: , :].values\n",
    "\n",
    "# Cast the data to float if necessary\n",
    "X = X.astype(float)\n",
    "\n",
    "# Determine optimal number of clusters using gap statistic\n",
    "n_clusters = OptimalK(n_jobs=-1)\n",
    "n_clusters(X, cluster_array=np.arange(1, 7))\n",
    "\n",
    "# Get the optimal number of clusters\n",
    "n_clusters_g = n_clusters.n_clusters\n",
    "\n",
    "print(f'Optimal number of clusters based on gap statistic: {n_clusters_g}')"
   ]
  },
  {
   "cell_type": "code",
   "execution_count": 5,
   "id": "ad7cf46a",
   "metadata": {
    "execution": {
     "iopub.execute_input": "2023-04-26T06:50:24.640442Z",
     "iopub.status.busy": "2023-04-26T06:50:24.638703Z",
     "iopub.status.idle": "2023-04-26T06:50:24.655939Z",
     "shell.execute_reply": "2023-04-26T06:50:24.654868Z"
    },
    "papermill": {
     "duration": 0.031674,
     "end_time": "2023-04-26T06:50:24.659203",
     "exception": false,
     "start_time": "2023-04-26T06:50:24.627529",
     "status": "completed"
    },
    "tags": []
   },
   "outputs": [
    {
     "name": "stdout",
     "output_type": "stream",
     "text": [
      "Number of clusters: 6\n"
     ]
    }
   ],
   "source": [
    "# normalize the data\n",
    "scaler = StandardScaler()\n",
    "X_scaled = scaler.fit_transform(X)\n",
    "\n",
    "# create a DBSCAN object\n",
    "dbscan = DBSCAN(eps=0.5, min_samples=5)\n",
    "\n",
    "# fit the data\n",
    "dbscan.fit(X_scaled)\n",
    "\n",
    "# get the labels and number of clusters\n",
    "labels = dbscan.labels_\n",
    "n_clusters = len(set(labels)) - (1 if -1 in labels else 0)\n",
    "\n",
    "# print the results\n",
    "print('Number of clusters:', n_clusters)"
   ]
  },
  {
   "cell_type": "markdown",
   "id": "b30d6b72",
   "metadata": {
    "papermill": {
     "duration": 0.011526,
     "end_time": "2023-04-26T06:50:24.684067",
     "exception": false,
     "start_time": "2023-04-26T06:50:24.672541",
     "status": "completed"
    },
    "tags": []
   },
   "source": [
    "# 3.3 <a id='3.3'> Parameter Grid </a>\n",
    "[Table of contents](#0.1)"
   ]
  },
  {
   "cell_type": "code",
   "execution_count": 6,
   "id": "5ab71107",
   "metadata": {
    "execution": {
     "iopub.execute_input": "2023-04-26T06:50:24.704856Z",
     "iopub.status.busy": "2023-04-26T06:50:24.703994Z",
     "iopub.status.idle": "2023-04-26T06:52:46.237448Z",
     "shell.execute_reply": "2023-04-26T06:52:46.235520Z"
    },
    "papermill": {
     "duration": 141.545888,
     "end_time": "2023-04-26T06:52:46.240204",
     "exception": false,
     "start_time": "2023-04-26T06:50:24.694316",
     "status": "completed"
    },
    "tags": []
   },
   "outputs": [
    {
     "name": "stdout",
     "output_type": "stream",
     "text": [
      "Best hyperparameters:  {'algorithm': 'auto', 'init': 'random', 'max_iter': 100, 'n_clusters': 6, 'n_init': 10, 'random_state': 0, 'tol': 0.01}\n",
      "Optimal number of clusters based on parameter grid: 6\n"
     ]
    }
   ],
   "source": [
    "# Define the parameter grid\n",
    "param_grid = {\n",
    "    'n_clusters': range(2, n_clusters_g + 1),\n",
    "    'init': ['k-means++', 'random'],\n",
    "    'n_init': [5, 10, 15],\n",
    "    'max_iter': [100, 200, 300, 400, 500],\n",
    "    'tol': [0.0001, 0.001, 0.01],\n",
    "    'algorithm': ['auto', 'full', 'elkan'],\n",
    "    'random_state': [0, 42, 100]\n",
    "}\n",
    "\n",
    "# Create the KMeans object\n",
    "kmeans = KMeans(random_state=42)\n",
    "\n",
    "# Perform grid search\n",
    "grid_search = GridSearchCV(kmeans, param_grid=param_grid, cv=5, n_jobs=-1)\n",
    "\n",
    "# Fit the grid search to the data\n",
    "grid_search.fit(X)\n",
    "\n",
    "# Print the best hyperparameters\n",
    "print(\"Best hyperparameters: \", grid_search.best_params_)\n",
    "print('Optimal number of clusters based on parameter grid: ' + str(grid_search.best_params_['n_clusters']))"
   ]
  },
  {
   "cell_type": "markdown",
   "id": "c2be6ae7",
   "metadata": {
    "papermill": {
     "duration": 0.007969,
     "end_time": "2023-04-26T06:52:46.256539",
     "exception": false,
     "start_time": "2023-04-26T06:52:46.248570",
     "status": "completed"
    },
    "tags": []
   },
   "source": [
    "# 3.4 <a id='3.4'> KMeans </a>\n",
    "[Table of contents](#0.1)"
   ]
  },
  {
   "cell_type": "code",
   "execution_count": 7,
   "id": "31355c1b",
   "metadata": {
    "execution": {
     "iopub.execute_input": "2023-04-26T06:52:46.274962Z",
     "iopub.status.busy": "2023-04-26T06:52:46.274545Z",
     "iopub.status.idle": "2023-04-26T06:52:47.832747Z",
     "shell.execute_reply": "2023-04-26T06:52:47.831739Z"
    },
    "papermill": {
     "duration": 1.570472,
     "end_time": "2023-04-26T06:52:47.835205",
     "exception": false,
     "start_time": "2023-04-26T06:52:46.264733",
     "status": "completed"
    },
    "tags": []
   },
   "outputs": [
    {
     "name": "stdout",
     "output_type": "stream",
     "text": [
      "For n_clusters = 2, the average silhouette score is : 0.29\n",
      "For n_clusters = 3, the average silhouette score is : 0.38\n",
      "For n_clusters = 4, the average silhouette score is : 0.41\n",
      "For n_clusters = 5, the average silhouette score is : 0.44\n",
      "For n_clusters = 6, the average silhouette score is : 0.45\n",
      "For n_clusters = 7, the average silhouette score is : 0.44\n",
      "For n_clusters = 8, the average silhouette score is : 0.43\n",
      "For n_clusters = 9, the average silhouette score is : 0.39\n",
      "For n_clusters = 10, the average silhouette score is : 0.38\n"
     ]
    },
    {
     "data": {
      "image/png": "[encoded data removed]",
      "text/plain": [
       "<Figure size 1600x800 with 1 Axes>"
      ]
     },
     "metadata": {},
     "output_type": "display_data"
    }
   ],
   "source": [
    "# Use the elbow method to find the optimal number of clusters\n",
    "wcss = []\n",
    "range_n_clusters = range(2, 11)\n",
    "for i in range_n_clusters:\n",
    "    kmeans = KMeans(n_clusters = i, \n",
    "                init=grid_search.best_params_['init'], \n",
    "                max_iter=grid_search.best_params_['max_iter'], \n",
    "                tol=grid_search.best_params_['tol'], \n",
    "                algorithm=grid_search.best_params_['algorithm'], \n",
    "                random_state=42\n",
    "                )\n",
    "    kmeans.fit(X)\n",
    "    wcss.append(kmeans.inertia_)\n",
    "    \n",
    "    cluster_labels = kmeans.fit_predict(X)\n",
    "    silhouette_avg = silhouette_score(X, cluster_labels)\n",
    "    \n",
    "    print(f'For n_clusters = {i}, the average silhouette score is : {round(silhouette_avg, 2)}')\n",
    "    \n",
    "plt.plot(range(2, 11), wcss, marker = 'o', linestyle = '--')\n",
    "plt.title('Elbow Method')\n",
    "plt.xlabel('Number of clusters')\n",
    "plt.ylabel('WCSS')\n",
    "\n",
    "# Add a vertical line indicating the number of clusters\n",
    "n_clusters_g = grid_search.best_params_['n_clusters']\n",
    "plt.axvline(x=n_clusters_g, linestyle='--', color='red', label=f'Number of Clusters: {n_clusters_g}')\n",
    "plt.annotate(f'Optimal Number of Clusters: {n_clusters_g}', xy=(n_clusters_g, wcss[n_clusters_g-2]), xytext=(n_clusters_g-1, wcss[n_clusters_g-2]+5000),\n",
    "            arrowprops=dict(arrowstyle='->',lw=1, color='red'), fontsize=12)\n",
    "plt.legend()\n",
    "plt.show()"
   ]
  },
  {
   "cell_type": "code",
   "execution_count": 8,
   "id": "5406811e",
   "metadata": {
    "execution": {
     "iopub.execute_input": "2023-04-26T06:52:47.858223Z",
     "iopub.status.busy": "2023-04-26T06:52:47.857249Z",
     "iopub.status.idle": "2023-04-26T06:52:47.863411Z",
     "shell.execute_reply": "2023-04-26T06:52:47.862170Z"
    },
    "papermill": {
     "duration": 0.020071,
     "end_time": "2023-04-26T06:52:47.865747",
     "exception": false,
     "start_time": "2023-04-26T06:52:47.845676",
     "status": "completed"
    },
    "tags": []
   },
   "outputs": [],
   "source": [
    "# We run K-means with a fixed number of clusters. In our case 4.\n",
    "kmeans = KMeans(n_clusters = n_clusters_g, \n",
    "                init=grid_search.best_params_['init'], \n",
    "                max_iter=grid_search.best_params_['max_iter'], \n",
    "                tol=grid_search.best_params_['tol'], \n",
    "                algorithm=grid_search.best_params_['algorithm'], \n",
    "                random_state=42\n",
    "                )"
   ]
  },
  {
   "cell_type": "code",
   "execution_count": 9,
   "id": "4260f968",
   "metadata": {
    "execution": {
     "iopub.execute_input": "2023-04-26T06:52:47.888168Z",
     "iopub.status.busy": "2023-04-26T06:52:47.887105Z",
     "iopub.status.idle": "2023-04-26T06:52:47.918753Z",
     "shell.execute_reply": "2023-04-26T06:52:47.917546Z"
    },
    "papermill": {
     "duration": 0.04557,
     "end_time": "2023-04-26T06:52:47.921423",
     "exception": false,
     "start_time": "2023-04-26T06:52:47.875853",
     "status": "completed"
    },
    "tags": []
   },
   "outputs": [
    {
     "data": {
      "text/plain": [
       "KMeans(init='random', max_iter=100, n_clusters=6, random_state=42, tol=0.01)"
      ]
     },
     "execution_count": 9,
     "metadata": {},
     "output_type": "execute_result"
    }
   ],
   "source": [
    "# We divide our data into the four clusters.\n",
    "kmeans.fit(X)"
   ]
  },
  {
   "cell_type": "code",
   "execution_count": 10,
   "id": "d9a76be1",
   "metadata": {
    "execution": {
     "iopub.execute_input": "2023-04-26T06:52:47.945433Z",
     "iopub.status.busy": "2023-04-26T06:52:47.944686Z",
     "iopub.status.idle": "2023-04-26T06:52:47.952767Z",
     "shell.execute_reply": "2023-04-26T06:52:47.951462Z"
    },
    "papermill": {
     "duration": 0.022141,
     "end_time": "2023-04-26T06:52:47.955213",
     "exception": false,
     "start_time": "2023-04-26T06:52:47.933072",
     "status": "completed"
    },
    "tags": []
   },
   "outputs": [],
   "source": [
    "# We create a new data frame with the original features and add a new column with the assigned clusters for each point.\n",
    "df_segm_kmeans = df[['Age' , 'Annual Income (k$)' ,'Spending Score (1-100)']].copy()\n",
    "df_segm_kmeans['Segment K-means'] = kmeans.labels_\n",
    "labels = kmeans.labels_\n",
    "centroids = kmeans.cluster_centers_"
   ]
  },
  {
   "cell_type": "code",
   "execution_count": 11,
   "id": "c3f43521",
   "metadata": {
    "execution": {
     "iopub.execute_input": "2023-04-26T06:52:47.977407Z",
     "iopub.status.busy": "2023-04-26T06:52:47.976963Z",
     "iopub.status.idle": "2023-04-26T06:52:47.995159Z",
     "shell.execute_reply": "2023-04-26T06:52:47.993896Z"
    },
    "papermill": {
     "duration": 0.032379,
     "end_time": "2023-04-26T06:52:47.997750",
     "exception": false,
     "start_time": "2023-04-26T06:52:47.965371",
     "status": "completed"
    },
    "tags": []
   },
   "outputs": [
    {
     "data": {
      "text/html": [
       "<div>\n",
       "<style scoped>\n",
       "    .dataframe tbody tr th:only-of-type {\n",
       "        vertical-align: middle;\n",
       "    }\n",
       "\n",
       "    .dataframe tbody tr th {\n",
       "        vertical-align: top;\n",
       "    }\n",
       "\n",
       "    .dataframe thead th {\n",
       "        text-align: right;\n",
       "    }\n",
       "</style>\n",
       "<table border=\"1\" class=\"dataframe\">\n",
       "  <thead>\n",
       "    <tr style=\"text-align: right;\">\n",
       "      <th></th>\n",
       "      <th>Age</th>\n",
       "      <th>Annual Income (k$)</th>\n",
       "      <th>Spending Score (1-100)</th>\n",
       "    </tr>\n",
       "    <tr>\n",
       "      <th>Segment K-means</th>\n",
       "      <th></th>\n",
       "      <th></th>\n",
       "      <th></th>\n",
       "    </tr>\n",
       "  </thead>\n",
       "  <tbody>\n",
       "    <tr>\n",
       "      <th>0</th>\n",
       "      <td>27.410256</td>\n",
       "      <td>57.025641</td>\n",
       "      <td>48.769231</td>\n",
       "    </tr>\n",
       "    <tr>\n",
       "      <th>1</th>\n",
       "      <td>25.272727</td>\n",
       "      <td>25.727273</td>\n",
       "      <td>79.363636</td>\n",
       "    </tr>\n",
       "    <tr>\n",
       "      <th>2</th>\n",
       "      <td>44.318182</td>\n",
       "      <td>25.772727</td>\n",
       "      <td>20.272727</td>\n",
       "    </tr>\n",
       "    <tr>\n",
       "      <th>3</th>\n",
       "      <td>41.647059</td>\n",
       "      <td>88.735294</td>\n",
       "      <td>16.764706</td>\n",
       "    </tr>\n",
       "    <tr>\n",
       "      <th>4</th>\n",
       "      <td>56.340909</td>\n",
       "      <td>53.704545</td>\n",
       "      <td>49.386364</td>\n",
       "    </tr>\n",
       "    <tr>\n",
       "      <th>5</th>\n",
       "      <td>32.692308</td>\n",
       "      <td>86.538462</td>\n",
       "      <td>82.128205</td>\n",
       "    </tr>\n",
       "  </tbody>\n",
       "</table>\n",
       "</div>"
      ],
      "text/plain": [
       "                       Age  Annual Income (k$)  Spending Score (1-100)\n",
       "Segment K-means                                                       \n",
       "0                27.410256           57.025641               48.769231\n",
       "1                25.272727           25.727273               79.363636\n",
       "2                44.318182           25.772727               20.272727\n",
       "3                41.647059           88.735294               16.764706\n",
       "4                56.340909           53.704545               49.386364\n",
       "5                32.692308           86.538462               82.128205"
      ]
     },
     "execution_count": 11,
     "metadata": {},
     "output_type": "execute_result"
    }
   ],
   "source": [
    "# Calculate mean values for the clusters\n",
    "df_segm_analysis = df_segm_kmeans.groupby(['Segment K-means']).mean()\n",
    "df_segm_analysis"
   ]
  },
  {
   "cell_type": "code",
   "execution_count": 12,
   "id": "2b434be9",
   "metadata": {
    "execution": {
     "iopub.execute_input": "2023-04-26T06:52:48.021618Z",
     "iopub.status.busy": "2023-04-26T06:52:48.020551Z",
     "iopub.status.idle": "2023-04-26T06:52:48.036592Z",
     "shell.execute_reply": "2023-04-26T06:52:48.035604Z"
    },
    "papermill": {
     "duration": 0.030429,
     "end_time": "2023-04-26T06:52:48.039127",
     "exception": false,
     "start_time": "2023-04-26T06:52:48.008698",
     "status": "completed"
    },
    "tags": []
   },
   "outputs": [
    {
     "data": {
      "text/html": [
       "<div>\n",
       "<style scoped>\n",
       "    .dataframe tbody tr th:only-of-type {\n",
       "        vertical-align: middle;\n",
       "    }\n",
       "\n",
       "    .dataframe tbody tr th {\n",
       "        vertical-align: top;\n",
       "    }\n",
       "\n",
       "    .dataframe thead th {\n",
       "        text-align: right;\n",
       "    }\n",
       "</style>\n",
       "<table border=\"1\" class=\"dataframe\">\n",
       "  <thead>\n",
       "    <tr style=\"text-align: right;\">\n",
       "      <th></th>\n",
       "      <th>Age</th>\n",
       "      <th>Annual Income (k$)</th>\n",
       "    </tr>\n",
       "    <tr>\n",
       "      <th>Segment K-means</th>\n",
       "      <th></th>\n",
       "      <th></th>\n",
       "    </tr>\n",
       "  </thead>\n",
       "  <tbody>\n",
       "    <tr>\n",
       "      <th>0</th>\n",
       "      <td>27.410256</td>\n",
       "      <td>57.025641</td>\n",
       "    </tr>\n",
       "    <tr>\n",
       "      <th>1</th>\n",
       "      <td>25.272727</td>\n",
       "      <td>25.727273</td>\n",
       "    </tr>\n",
       "    <tr>\n",
       "      <th>2</th>\n",
       "      <td>44.318182</td>\n",
       "      <td>25.772727</td>\n",
       "    </tr>\n",
       "    <tr>\n",
       "      <th>3</th>\n",
       "      <td>41.647059</td>\n",
       "      <td>88.735294</td>\n",
       "    </tr>\n",
       "    <tr>\n",
       "      <th>4</th>\n",
       "      <td>56.340909</td>\n",
       "      <td>53.704545</td>\n",
       "    </tr>\n",
       "    <tr>\n",
       "      <th>5</th>\n",
       "      <td>32.692308</td>\n",
       "      <td>86.538462</td>\n",
       "    </tr>\n",
       "  </tbody>\n",
       "</table>\n",
       "</div>"
      ],
      "text/plain": [
       "                       Age  Annual Income (k$)\n",
       "Segment K-means                               \n",
       "0                27.410256           57.025641\n",
       "1                25.272727           25.727273\n",
       "2                44.318182           25.772727\n",
       "3                41.647059           88.735294\n",
       "4                56.340909           53.704545\n",
       "5                32.692308           86.538462"
      ]
     },
     "execution_count": 12,
     "metadata": {},
     "output_type": "execute_result"
    }
   ],
   "source": [
    "# Compute the size and proportions of the four clusters\n",
    "df_segm_analysis['N Obs'] = df_segm_kmeans.groupby(['Segment K-means']).size()\n",
    "df_segm_analysis['Prop Obs'] = df_segm_analysis['N Obs'] / df_segm_analysis['N Obs'].sum()\n",
    "df_segm_analysis[['Age', 'Annual Income (k$)']]"
   ]
  },
  {
   "cell_type": "code",
   "execution_count": 13,
   "id": "d6514324",
   "metadata": {
    "execution": {
     "iopub.execute_input": "2023-04-26T06:52:48.062805Z",
     "iopub.status.busy": "2023-04-26T06:52:48.061993Z",
     "iopub.status.idle": "2023-04-26T06:52:48.079556Z",
     "shell.execute_reply": "2023-04-26T06:52:48.078233Z"
    },
    "papermill": {
     "duration": 0.032043,
     "end_time": "2023-04-26T06:52:48.082015",
     "exception": false,
     "start_time": "2023-04-26T06:52:48.049972",
     "status": "completed"
    },
    "tags": []
   },
   "outputs": [
    {
     "data": {
      "text/html": [
       "<div>\n",
       "<style scoped>\n",
       "    .dataframe tbody tr th:only-of-type {\n",
       "        vertical-align: middle;\n",
       "    }\n",
       "\n",
       "    .dataframe tbody tr th {\n",
       "        vertical-align: top;\n",
       "    }\n",
       "\n",
       "    .dataframe thead th {\n",
       "        text-align: right;\n",
       "    }\n",
       "</style>\n",
       "<table border=\"1\" class=\"dataframe\">\n",
       "  <thead>\n",
       "    <tr style=\"text-align: right;\">\n",
       "      <th></th>\n",
       "      <th>Age</th>\n",
       "      <th>Annual Income (k$)</th>\n",
       "      <th>Spending Score (1-100)</th>\n",
       "      <th>N Obs</th>\n",
       "      <th>Prop Obs</th>\n",
       "    </tr>\n",
       "    <tr>\n",
       "      <th>Segment K-means</th>\n",
       "      <th></th>\n",
       "      <th></th>\n",
       "      <th></th>\n",
       "      <th></th>\n",
       "      <th></th>\n",
       "    </tr>\n",
       "  </thead>\n",
       "  <tbody>\n",
       "    <tr>\n",
       "      <th>Young Moderate Income</th>\n",
       "      <td>27.410256</td>\n",
       "      <td>57.025641</td>\n",
       "      <td>48.769231</td>\n",
       "      <td>39</td>\n",
       "      <td>0.195</td>\n",
       "    </tr>\n",
       "    <tr>\n",
       "      <th>Young Low Income</th>\n",
       "      <td>25.272727</td>\n",
       "      <td>25.727273</td>\n",
       "      <td>79.363636</td>\n",
       "      <td>22</td>\n",
       "      <td>0.110</td>\n",
       "    </tr>\n",
       "    <tr>\n",
       "      <th>Middle-aged Low Income</th>\n",
       "      <td>44.318182</td>\n",
       "      <td>25.772727</td>\n",
       "      <td>20.272727</td>\n",
       "      <td>22</td>\n",
       "      <td>0.110</td>\n",
       "    </tr>\n",
       "    <tr>\n",
       "      <th>Middle-aged High Income</th>\n",
       "      <td>41.647059</td>\n",
       "      <td>88.735294</td>\n",
       "      <td>16.764706</td>\n",
       "      <td>34</td>\n",
       "      <td>0.170</td>\n",
       "    </tr>\n",
       "    <tr>\n",
       "      <th>Senior Moderate Income</th>\n",
       "      <td>56.340909</td>\n",
       "      <td>53.704545</td>\n",
       "      <td>49.386364</td>\n",
       "      <td>44</td>\n",
       "      <td>0.220</td>\n",
       "    </tr>\n",
       "    <tr>\n",
       "      <th>Middle-aged High Income</th>\n",
       "      <td>32.692308</td>\n",
       "      <td>86.538462</td>\n",
       "      <td>82.128205</td>\n",
       "      <td>39</td>\n",
       "      <td>0.195</td>\n",
       "    </tr>\n",
       "  </tbody>\n",
       "</table>\n",
       "</div>"
      ],
      "text/plain": [
       "                               Age  Annual Income (k$)  \\\n",
       "Segment K-means                                          \n",
       "Young Moderate Income    27.410256           57.025641   \n",
       "Young Low Income         25.272727           25.727273   \n",
       "Middle-aged Low Income   44.318182           25.772727   \n",
       "Middle-aged High Income  41.647059           88.735294   \n",
       "Senior Moderate Income   56.340909           53.704545   \n",
       "Middle-aged High Income  32.692308           86.538462   \n",
       "\n",
       "                         Spending Score (1-100)  N Obs  Prop Obs  \n",
       "Segment K-means                                                   \n",
       "Young Moderate Income                 48.769231     39     0.195  \n",
       "Young Low Income                      79.363636     22     0.110  \n",
       "Middle-aged Low Income                20.272727     22     0.110  \n",
       "Middle-aged High Income               16.764706     34     0.170  \n",
       "Senior Moderate Income                49.386364     44     0.220  \n",
       "Middle-aged High Income               82.128205     39     0.195  "
      ]
     },
     "execution_count": 13,
     "metadata": {},
     "output_type": "execute_result"
    }
   ],
   "source": [
    "df_segm_analysis.rename({0:'Young Moderate Income',\n",
    "                         1:'Young Low Income',\n",
    "                         2:'Middle-aged Low Income',\n",
    "                         3:'Middle-aged High Income',\n",
    "                         4:'Senior Moderate Income',\n",
    "                         5:'Middle-aged High Income'\n",
    "                        })"
   ]
  },
  {
   "cell_type": "code",
   "execution_count": 14,
   "id": "11257300",
   "metadata": {
    "execution": {
     "iopub.execute_input": "2023-04-26T06:52:48.106182Z",
     "iopub.status.busy": "2023-04-26T06:52:48.105400Z",
     "iopub.status.idle": "2023-04-26T06:52:48.116054Z",
     "shell.execute_reply": "2023-04-26T06:52:48.114523Z"
    },
    "papermill": {
     "duration": 0.025583,
     "end_time": "2023-04-26T06:52:48.118546",
     "exception": false,
     "start_time": "2023-04-26T06:52:48.092963",
     "status": "completed"
    },
    "tags": []
   },
   "outputs": [],
   "source": [
    "# Add the segment labels to our table\n",
    "df_segm_kmeans['Labels'] = df_segm_kmeans['Segment K-means'].map({0:'Young Moderate Income',\n",
    "                         1:'Young Low Income',\n",
    "                         2:'Middle-aged Low Income',\n",
    "                         3:'Middle-aged High Income',\n",
    "                         4:'Senior Moderate Income',\n",
    "                         5:'Middle-aged High Income'\n",
    "                        })"
   ]
  },
  {
   "cell_type": "code",
   "execution_count": 15,
   "id": "547350bb",
   "metadata": {
    "execution": {
     "iopub.execute_input": "2023-04-26T06:52:48.142611Z",
     "iopub.status.busy": "2023-04-26T06:52:48.142189Z",
     "iopub.status.idle": "2023-04-26T06:52:49.911088Z",
     "shell.execute_reply": "2023-04-26T06:52:49.909590Z"
    },
    "papermill": {
     "duration": 1.784614,
     "end_time": "2023-04-26T06:52:49.914028",
     "exception": false,
     "start_time": "2023-04-26T06:52:48.129414",
     "status": "completed"
    },
    "tags": []
   },
   "outputs": [
    {
     "data": {
      "text/html": [
       "        <script type=\"text/javascript\">\n",
       "        window.PlotlyConfig = {MathJaxConfig: 'local'};\n",
       "        if (window.MathJax && window.MathJax.Hub && window.MathJax.Hub.Config) {window.MathJax.Hub.Config({SVG: {font: \"STIX-Web\"}});}\n",
       "        if (typeof require !== 'undefined') {\n",
       "        require.undef(\"plotly\");\n",
       "        requirejs.config({\n",
       "            paths: {\n",
       "                'plotly': ['https://cdn.plot.ly/plotly-2.18.0.min']\n",
       "            }\n",
       "        });\n",
       "        require(['plotly'], function(Plotly) {\n",
       "            window._Plotly = Plotly;\n",
       "        });\n",
       "        }\n",
       "        </script>\n",
       "        "
      ]
     },
     "metadata": {},
     "output_type": "display_data"
    },
    {
     "data": {
      "text/html": [
       "<div>                            <div id=\"72848b6f-ff39-4e65-8ec0-52b8ecd2f2e5\" class=\"plotly-graph-div\" style=\"height:525px; width:100%;\"></div>            <script type=\"text/javascript\">                require([\"plotly\"], function(Plotly) {                    window.PLOTLYENV=window.PLOTLYENV || {};                                    if (document.getElementById(\"72848b6f-ff39-4e65-8ec0-52b8ecd2f2e5\")) {                    Plotly.newPlot(                        \"72848b6f-ff39-4e65-8ec0-52b8ecd2f2e5\",                        [{\"hovertemplate\":\"Labels=Middle-aged Low Income<br>Age=%{x}<br>Annual Income (k$)=%{y}<br>Spending Score (1-100)=%{z}<extra></extra>\",\"legendgroup\":\"Middle-aged Low Income\",\"marker\":{\"color\":\"#636efa\",\"opacity\":0.7,\"symbol\":\"circle\"},\"mode\":\"markers\",\"name\":\"Middle-aged Low Income\",\"scene\":\"scene\",\"showlegend\":true,\"x\":[19,20,31,35,64,67,58,37,35,52,35,46,54,45,40,60,53,49,42,36,48,49],\"y\":[15,16,17,18,19,19,20,20,21,23,24,25,28,28,29,30,33,33,34,37,39,39],\"z\":[39,6,40,6,3,14,15,13,35,29,35,5,14,32,31,4,4,14,17,26,36,28],\"type\":\"scatter3d\"},{\"hovertemplate\":\"Labels=Young Low Income<br>Age=%{x}<br>Annual Income (k$)=%{y}<br>Spending Score (1-100)=%{z}<extra></extra>\",\"legendgroup\":\"Young Low Income\",\"marker\":{\"color\":\"#EF553B\",\"opacity\":0.7,\"symbol\":\"diamond\"},\"mode\":\"markers\",\"name\":\"Young Low Income\",\"scene\":\"scene\",\"showlegend\":true,\"x\":[21,23,22,23,30,35,24,22,20,35,25,31,29,35,23,21,18,21,30,20,24,24],\"y\":[15,16,17,18,19,19,20,20,21,23,24,25,28,28,29,30,33,33,34,37,38,39],\"z\":[81,77,76,94,72,99,77,79,66,98,73,73,82,61,87,73,92,81,73,75,92,65],\"type\":\"scatter3d\"},{\"hovertemplate\":\"Labels=Senior Moderate Income<br>Age=%{x}<br>Annual Income (k$)=%{y}<br>Spending Score (1-100)=%{z}<extra></extra>\",\"legendgroup\":\"Senior Moderate Income\",\"marker\":{\"color\":\"#00cc96\",\"opacity\":0.7,\"symbol\":\"square\"},\"mode\":\"markers\",\"name\":\"Senior Moderate Income\",\"scene\":\"scene\",\"showlegend\":true,\"x\":[65,50,49,59,50,47,51,69,53,70,67,54,63,43,68,70,47,60,60,59,45,49,57,67,46,48,55,50,68,48,47,48,49,67,49,66,54,68,66,65,63,49,51,50],\"y\":[38,40,42,43,43,43,44,44,46,46,47,47,48,48,48,49,49,50,50,54,54,54,54,54,54,54,57,58,59,60,60,61,62,62,62,63,63,63,63,63,65,65,67,67],\"z\":[35,55,52,60,45,41,50,46,46,56,52,59,51,50,48,55,42,49,56,47,53,42,51,41,44,46,58,46,55,49,47,42,48,59,56,50,46,43,48,52,43,59,43,57],\"type\":\"scatter3d\"},{\"hovertemplate\":\"Labels=Young Moderate Income<br>Age=%{x}<br>Annual Income (k$)=%{y}<br>Spending Score (1-100)=%{z}<extra></extra>\",\"legendgroup\":\"Young Moderate Income\",\"marker\":{\"color\":\"#ab63fa\",\"opacity\":0.7,\"symbol\":\"x\"},\"mode\":\"markers\",\"name\":\"Young Moderate Income\",\"scene\":\"scene\",\"showlegend\":true,\"x\":[31,27,29,31,33,31,27,19,18,19,32,26,40,23,38,21,22,34,18,40,32,24,27,20,23,26,21,19,38,19,18,19,27,38,40,23,43,25,28],\"y\":[39,40,40,40,42,43,46,46,48,48,48,54,54,54,54,54,57,58,59,60,60,60,60,61,62,62,62,63,64,64,65,65,67,67,69,70,71,72,76],\"z\":[61,47,42,42,60,54,51,55,59,59,47,54,48,52,55,57,55,60,41,40,42,52,50,49,41,55,42,54,42,46,48,50,56,40,58,29,35,34,40],\"type\":\"scatter3d\"},{\"hovertemplate\":\"Labels=Middle-aged High Income<br>Age=%{x}<br>Annual Income (k$)=%{y}<br>Spending Score (1-100)=%{z}<extra></extra>\",\"legendgroup\":\"Middle-aged High Income\",\"marker\":{\"color\":\"#FFA15A\",\"opacity\":0.7,\"symbol\":\"cross\"},\"mode\":\"markers\",\"name\":\"Middle-aged High Income\",\"scene\":\"scene\",\"showlegend\":true,\"x\":[39,31,40,59,38,47,39,31,20,29,44,32,19,35,57,32,32,25,28,48,32,34,34,43,39,44,38,47,27,37,30,34,30,56,29,19,31,50,36,42,33,36,32,40,28,36,36,52,30,58,27,59,35,37,32,46,29,41,30,54,28,41,36,34,32,33,38,47,35,45,32,32,30],\"y\":[69,70,71,71,71,71,71,72,73,73,73,73,74,74,75,75,76,77,77,77,77,78,78,78,78,78,78,78,78,78,78,78,78,79,79,81,81,85,85,86,86,87,87,87,87,87,87,88,88,88,88,93,93,97,97,98,98,99,99,101,101,103,103,103,103,113,113,120,120,126,126,137,137],\"z\":[91,77,95,11,75,9,75,71,5,88,7,73,10,72,5,93,87,12,97,36,74,22,90,17,88,20,76,16,89,1,78,1,73,35,83,5,93,26,75,20,95,27,63,13,75,10,92,13,86,15,69,14,90,32,86,15,88,39,97,24,68,17,85,23,69,8,91,16,79,28,74,18,83],\"type\":\"scatter3d\"}],                        {\"template\":{\"data\":{\"histogram2dcontour\":[{\"type\":\"histogram2dcontour\",\"colorbar\":{\"outlinewidth\":0,\"ticks\":\"\"},\"colorscale\":[[0.0,\"#0d0887\"],[0.1111111111111111,\"#46039f\"],[0.2222222222222222,\"#7201a8\"],[0.3333333333333333,\"#9c179e\"],[0.4444444444444444,\"#bd3786\"],[0.5555555555555556,\"#d8576b\"],[0.6666666666666666,\"#ed7953\"],[0.7777777777777778,\"#fb9f3a\"],[0.8888888888888888,\"#fdca26\"],[1.0,\"#f0f921\"]]}],\"choropleth\":[{\"type\":\"choropleth\",\"colorbar\":{\"outlinewidth\":0,\"ticks\":\"\"}}],\"histogram2d\":[{\"type\":\"histogram2d\",\"colorbar\":{\"outlinewidth\":0,\"ticks\":\"\"},\"colorscale\":[[0.0,\"#0d0887\"],[0.1111111111111111,\"#46039f\"],[0.2222222222222222,\"#7201a8\"],[0.3333333333333333,\"#9c179e\"],[0.4444444444444444,\"#bd3786\"],[0.5555555555555556,\"#d8576b\"],[0.6666666666666666,\"#ed7953\"],[0.7777777777777778,\"#fb9f3a\"],[0.8888888888888888,\"#fdca26\"],[1.0,\"#f0f921\"]]}],\"heatmap\":[{\"type\":\"heatmap\",\"colorbar\":{\"outlinewidth\":0,\"ticks\":\"\"},\"colorscale\":[[0.0,\"#0d0887\"],[0.1111111111111111,\"#46039f\"],[0.2222222222222222,\"#7201a8\"],[0.3333333333333333,\"#9c179e\"],[0.4444444444444444,\"#bd3786\"],[0.5555555555555556,\"#d8576b\"],[0.6666666666666666,\"#ed7953\"],[0.7777777777777778,\"#fb9f3a\"],[0.8888888888888888,\"#fdca26\"],[1.0,\"#f0f921\"]]}],\"heatmapgl\":[{\"type\":\"heatmapgl\",\"colorbar\":{\"outlinewidth\":0,\"ticks\":\"\"},\"colorscale\":[[0.0,\"#0d0887\"],[0.1111111111111111,\"#46039f\"],[0.2222222222222222,\"#7201a8\"],[0.3333333333333333,\"#9c179e\"],[0.4444444444444444,\"#bd3786\"],[0.5555555555555556,\"#d8576b\"],[0.6666666666666666,\"#ed7953\"],[0.7777777777777778,\"#fb9f3a\"],[0.8888888888888888,\"#fdca26\"],[1.0,\"#f0f921\"]]}],\"contourcarpet\":[{\"type\":\"contourcarpet\",\"colorbar\":{\"outlinewidth\":0,\"ticks\":\"\"}}],\"contour\":[{\"type\":\"contour\",\"colorbar\":{\"outlinewidth\":0,\"ticks\":\"\"},\"colorscale\":[[0.0,\"#0d0887\"],[0.1111111111111111,\"#46039f\"],[0.2222222222222222,\"#7201a8\"],[0.3333333333333333,\"#9c179e\"],[0.4444444444444444,\"#bd3786\"],[0.5555555555555556,\"#d8576b\"],[0.6666666666666666,\"#ed7953\"],[0.7777777777777778,\"#fb9f3a\"],[0.8888888888888888,\"#fdca26\"],[1.0,\"#f0f921\"]]}],\"surface\":[{\"type\":\"surface\",\"colorbar\":{\"outlinewidth\":0,\"ticks\":\"\"},\"colorscale\":[[0.0,\"#0d0887\"],[0.1111111111111111,\"#46039f\"],[0.2222222222222222,\"#7201a8\"],[0.3333333333333333,\"#9c179e\"],[0.4444444444444444,\"#bd3786\"],[0.5555555555555556,\"#d8576b\"],[0.6666666666666666,\"#ed7953\"],[0.7777777777777778,\"#fb9f3a\"],[0.8888888888888888,\"#fdca26\"],[1.0,\"#f0f921\"]]}],\"mesh3d\":[{\"type\":\"mesh3d\",\"colorbar\":{\"outlinewidth\":0,\"ticks\":\"\"}}],\"scatter\":[{\"fillpattern\":{\"fillmode\":\"overlay\",\"size\":10,\"solidity\":0.2},\"type\":\"scatter\"}],\"parcoords\":[{\"type\":\"parcoords\",\"line\":{\"colorbar\":{\"outlinewidth\":0,\"ticks\":\"\"}}}],\"scatterpolargl\":[{\"type\":\"scatterpolargl\",\"marker\":{\"colorbar\":{\"outlinewidth\":0,\"ticks\":\"\"}}}],\"bar\":[{\"error_x\":{\"color\":\"#2a3f5f\"},\"error_y\":{\"color\":\"#2a3f5f\"},\"marker\":{\"line\":{\"color\":\"#E5ECF6\",\"width\":0.5},\"pattern\":{\"fillmode\":\"overlay\",\"size\":10,\"solidity\":0.2}},\"type\":\"bar\"}],\"scattergeo\":[{\"type\":\"scattergeo\",\"marker\":{\"colorbar\":{\"outlinewidth\":0,\"ticks\":\"\"}}}],\"scatterpolar\":[{\"type\":\"scatterpolar\",\"marker\":{\"colorbar\":{\"outlinewidth\":0,\"ticks\":\"\"}}}],\"histogram\":[{\"marker\":{\"pattern\":{\"fillmode\":\"overlay\",\"size\":10,\"solidity\":0.2}},\"type\":\"histogram\"}],\"scattergl\":[{\"type\":\"scattergl\",\"marker\":{\"colorbar\":{\"outlinewidth\":0,\"ticks\":\"\"}}}],\"scatter3d\":[{\"type\":\"scatter3d\",\"line\":{\"colorbar\":{\"outlinewidth\":0,\"ticks\":\"\"}},\"marker\":{\"colorbar\":{\"outlinewidth\":0,\"ticks\":\"\"}}}],\"scattermapbox\":[{\"type\":\"scattermapbox\",\"marker\":{\"colorbar\":{\"outlinewidth\":0,\"ticks\":\"\"}}}],\"scatterternary\":[{\"type\":\"scatterternary\",\"marker\":{\"colorbar\":{\"outlinewidth\":0,\"ticks\":\"\"}}}],\"scattercarpet\":[{\"type\":\"scattercarpet\",\"marker\":{\"colorbar\":{\"outlinewidth\":0,\"ticks\":\"\"}}}],\"carpet\":[{\"aaxis\":{\"endlinecolor\":\"#2a3f5f\",\"gridcolor\":\"white\",\"linecolor\":\"white\",\"minorgridcolor\":\"white\",\"startlinecolor\":\"#2a3f5f\"},\"baxis\":{\"endlinecolor\":\"#2a3f5f\",\"gridcolor\":\"white\",\"linecolor\":\"white\",\"minorgridcolor\":\"white\",\"startlinecolor\":\"#2a3f5f\"},\"type\":\"carpet\"}],\"table\":[{\"cells\":{\"fill\":{\"color\":\"#EBF0F8\"},\"line\":{\"color\":\"white\"}},\"header\":{\"fill\":{\"color\":\"#C8D4E3\"},\"line\":{\"color\":\"white\"}},\"type\":\"table\"}],\"barpolar\":[{\"marker\":{\"line\":{\"color\":\"#E5ECF6\",\"width\":0.5},\"pattern\":{\"fillmode\":\"overlay\",\"size\":10,\"solidity\":0.2}},\"type\":\"barpolar\"}],\"pie\":[{\"automargin\":true,\"type\":\"pie\"}]},\"layout\":{\"autotypenumbers\":\"strict\",\"colorway\":[\"#636efa\",\"#EF553B\",\"#00cc96\",\"#ab63fa\",\"#FFA15A\",\"#19d3f3\",\"#FF6692\",\"#B6E880\",\"#FF97FF\",\"#FECB52\"],\"font\":{\"color\":\"#2a3f5f\"},\"hovermode\":\"closest\",\"hoverlabel\":{\"align\":\"left\"},\"paper_bgcolor\":\"white\",\"plot_bgcolor\":\"#E5ECF6\",\"polar\":{\"bgcolor\":\"#E5ECF6\",\"angularaxis\":{\"gridcolor\":\"white\",\"linecolor\":\"white\",\"ticks\":\"\"},\"radialaxis\":{\"gridcolor\":\"white\",\"linecolor\":\"white\",\"ticks\":\"\"}},\"ternary\":{\"bgcolor\":\"#E5ECF6\",\"aaxis\":{\"gridcolor\":\"white\",\"linecolor\":\"white\",\"ticks\":\"\"},\"baxis\":{\"gridcolor\":\"white\",\"linecolor\":\"white\",\"ticks\":\"\"},\"caxis\":{\"gridcolor\":\"white\",\"linecolor\":\"white\",\"ticks\":\"\"}},\"coloraxis\":{\"colorbar\":{\"outlinewidth\":0,\"ticks\":\"\"}},\"colorscale\":{\"sequential\":[[0.0,\"#0d0887\"],[0.1111111111111111,\"#46039f\"],[0.2222222222222222,\"#7201a8\"],[0.3333333333333333,\"#9c179e\"],[0.4444444444444444,\"#bd3786\"],[0.5555555555555556,\"#d8576b\"],[0.6666666666666666,\"#ed7953\"],[0.7777777777777778,\"#fb9f3a\"],[0.8888888888888888,\"#fdca26\"],[1.0,\"#f0f921\"]],\"sequentialminus\":[[0.0,\"#0d0887\"],[0.1111111111111111,\"#46039f\"],[0.2222222222222222,\"#7201a8\"],[0.3333333333333333,\"#9c179e\"],[0.4444444444444444,\"#bd3786\"],[0.5555555555555556,\"#d8576b\"],[0.6666666666666666,\"#ed7953\"],[0.7777777777777778,\"#fb9f3a\"],[0.8888888888888888,\"#fdca26\"],[1.0,\"#f0f921\"]],\"diverging\":[[0,\"#8e0152\"],[0.1,\"#c51b7d\"],[0.2,\"#de77ae\"],[0.3,\"#f1b6da\"],[0.4,\"#fde0ef\"],[0.5,\"#f7f7f7\"],[0.6,\"#e6f5d0\"],[0.7,\"#b8e186\"],[0.8,\"#7fbc41\"],[0.9,\"#4d9221\"],[1,\"#276419\"]]},\"xaxis\":{\"gridcolor\":\"white\",\"linecolor\":\"white\",\"ticks\":\"\",\"title\":{\"standoff\":15},\"zerolinecolor\":\"white\",\"automargin\":true,\"zerolinewidth\":2},\"yaxis\":{\"gridcolor\":\"white\",\"linecolor\":\"white\",\"ticks\":\"\",\"title\":{\"standoff\":15},\"zerolinecolor\":\"white\",\"automargin\":true,\"zerolinewidth\":2},\"scene\":{\"xaxis\":{\"backgroundcolor\":\"#E5ECF6\",\"gridcolor\":\"white\",\"linecolor\":\"white\",\"showbackground\":true,\"ticks\":\"\",\"zerolinecolor\":\"white\",\"gridwidth\":2},\"yaxis\":{\"backgroundcolor\":\"#E5ECF6\",\"gridcolor\":\"white\",\"linecolor\":\"white\",\"showbackground\":true,\"ticks\":\"\",\"zerolinecolor\":\"white\",\"gridwidth\":2},\"zaxis\":{\"backgroundcolor\":\"#E5ECF6\",\"gridcolor\":\"white\",\"linecolor\":\"white\",\"showbackground\":true,\"ticks\":\"\",\"zerolinecolor\":\"white\",\"gridwidth\":2}},\"shapedefaults\":{\"line\":{\"color\":\"#2a3f5f\"}},\"annotationdefaults\":{\"arrowcolor\":\"#2a3f5f\",\"arrowhead\":0,\"arrowwidth\":1},\"geo\":{\"bgcolor\":\"white\",\"landcolor\":\"#E5ECF6\",\"subunitcolor\":\"white\",\"showland\":true,\"showlakes\":true,\"lakecolor\":\"white\"},\"title\":{\"x\":0.05},\"mapbox\":{\"style\":\"light\"}}},\"scene\":{\"domain\":{\"x\":[0.0,1.0],\"y\":[0.0,1.0]},\"xaxis\":{\"title\":{\"text\":\"Age\"}},\"yaxis\":{\"title\":{\"text\":\"Annual Income (k$)\"}},\"zaxis\":{\"title\":{\"text\":\"Spending Score (1-100)\"}}},\"legend\":{\"title\":{\"text\":\"Labels\"},\"tracegroupgap\":0},\"margin\":{\"t\":60},\"title\":{\"text\":\"Segmentation Chart - Diego Hurtado\",\"y\":0.95,\"x\":0.5,\"xanchor\":\"center\",\"yanchor\":\"top\"},\"font\":{\"family\":\"Courier New, monospace\",\"size\":12,\"color\":\"RebeccaPurple\"}},                        {\"responsive\": true}                    ).then(function(){\n",
       "                            \n",
       "var gd = document.getElementById('72848b6f-ff39-4e65-8ec0-52b8ecd2f2e5');\n",
       "var x = new MutationObserver(function (mutations, observer) {{\n",
       "        var display = window.getComputedStyle(gd).display;\n",
       "        if (!display || display === 'none') {{\n",
       "            console.log([gd, 'removed!']);\n",
       "            Plotly.purge(gd);\n",
       "            observer.disconnect();\n",
       "        }}\n",
       "}});\n",
       "\n",
       "// Listen for the removal of the full notebook cells\n",
       "var notebookContainer = gd.closest('#notebook-container');\n",
       "if (notebookContainer) {{\n",
       "    x.observe(notebookContainer, {childList: true});\n",
       "}}\n",
       "\n",
       "// Listen for the clearing of the current output cell\n",
       "var outputEl = gd.closest('.output');\n",
       "if (outputEl) {{\n",
       "    x.observe(outputEl, {childList: true});\n",
       "}}\n",
       "\n",
       "                        })                };                });            </script>        </div>"
      ]
     },
     "metadata": {},
     "output_type": "display_data"
    }
   ],
   "source": [
    "fig = px.scatter_3d(df_segm_kmeans, x='Age', y='Annual Income (k$)', z='Spending Score (1-100)', color='Labels',\n",
    "              symbol='Labels', opacity=0.7, size_max=10)\n",
    "\n",
    "fig.update_layout(\n",
    "    title={\n",
    "        'text': \"Segmentation Chart - Diego Hurtado\",\n",
    "        'y':0.95,\n",
    "        'x':0.5,\n",
    "        'xanchor': 'center',\n",
    "        'yanchor': 'top'},\n",
    "    scene=dict(\n",
    "        xaxis=dict(title='Age'),\n",
    "        yaxis=dict(title='Annual Income (k$)'),\n",
    "        zaxis=dict(title='Spending Score (1-100)')),\n",
    "    font=dict(\n",
    "        family=\"Courier New, monospace\",\n",
    "        size=12,\n",
    "        color=\"RebeccaPurple\"))\n",
    "\n",
    "\n",
    "fig.show()"
   ]
  },
  {
   "cell_type": "markdown",
   "id": "da1149de",
   "metadata": {
    "papermill": {
     "duration": 0.011085,
     "end_time": "2023-04-26T06:52:49.936779",
     "exception": false,
     "start_time": "2023-04-26T06:52:49.925694",
     "status": "completed"
    },
    "tags": []
   },
   "source": [
    "# 3.5 <a id='3.5'> Hierarchical Clustering </a>\n",
    "[Table of contents](#0.1)"
   ]
  },
  {
   "cell_type": "code",
   "execution_count": 16,
   "id": "cf75afde",
   "metadata": {
    "execution": {
     "iopub.execute_input": "2023-04-26T06:52:49.962199Z",
     "iopub.status.busy": "2023-04-26T06:52:49.961784Z",
     "iopub.status.idle": "2023-04-26T06:52:53.953855Z",
     "shell.execute_reply": "2023-04-26T06:52:53.952625Z"
    },
    "papermill": {
     "duration": 4.008528,
     "end_time": "2023-04-26T06:52:53.956732",
     "exception": false,
     "start_time": "2023-04-26T06:52:49.948204",
     "status": "completed"
    },
    "tags": []
   },
   "outputs": [
    {
     "data": {
      "image/png": "[encoded data removed]",
      "text/plain": [
       "<Figure size 1000x700 with 1 Axes>"
      ]
     },
     "metadata": {},
     "output_type": "display_data"
    }
   ],
   "source": [
    "# Fit the hierarchical clustering model\n",
    "agg_cluster = AgglomerativeClustering(n_clusters=6, affinity='euclidean', linkage='ward')\n",
    "agg_cluster.fit(X)\n",
    "\n",
    "# Plot the dendrogram\n",
    "plt.figure(figsize=(10, 7))\n",
    "plt.title(\"Customer Dendrograms\")\n",
    "dend = shc.dendrogram(shc.linkage(X, method='ward'))\n",
    "plt.axhline(y=160, color='r', linestyle='--')\n",
    "plt.show()"
   ]
  },
  {
   "cell_type": "code",
   "execution_count": 17,
   "id": "aaf9f1ef",
   "metadata": {
    "execution": {
     "iopub.execute_input": "2023-04-26T06:52:53.983077Z",
     "iopub.status.busy": "2023-04-26T06:52:53.982679Z",
     "iopub.status.idle": "2023-04-26T06:52:54.237034Z",
     "shell.execute_reply": "2023-04-26T06:52:54.235696Z"
    },
    "papermill": {
     "duration": 0.270837,
     "end_time": "2023-04-26T06:52:54.239893",
     "exception": false,
     "start_time": "2023-04-26T06:52:53.969056",
     "status": "completed"
    },
    "tags": []
   },
   "outputs": [
    {
     "data": {
      "image/png": "[encoded data removed]",
      "text/plain": [
       "<Figure size 1200x900 with 1 Axes>"
      ]
     },
     "metadata": {},
     "output_type": "display_data"
    }
   ],
   "source": [
    "# Perform Hierarchical Clustering. The results are returned as a linkage matrix. \n",
    "hier_clust = linkage(X, method = 'ward')\n",
    "\n",
    "# We plot the results from the Hierarchical Clustering using a Dendrogram. \n",
    "# We truncate the dendrogram for better readability. The level p shows only the last p merged clusters\n",
    "# We also omit showing the labels for each point.\n",
    "plt.figure(figsize = (12,9))\n",
    "plt.title('Hierarchical Clustering Dendrogram')\n",
    "plt.xlabel('Observations')\n",
    "plt.ylabel('Distance')\n",
    "dendrogram(hier_clust,\n",
    "           truncate_mode = 'level', \n",
    "           p = 5, \n",
    "           show_leaf_counts = False, \n",
    "           no_labels = True)\n",
    "plt.show()"
   ]
  },
  {
   "cell_type": "markdown",
   "id": "446f1967",
   "metadata": {
    "papermill": {
     "duration": 0.0126,
     "end_time": "2023-04-26T06:52:54.265520",
     "exception": false,
     "start_time": "2023-04-26T06:52:54.252920",
     "status": "completed"
    },
    "tags": []
   },
   "source": [
    "<img src=\"https://frogdesign.nyc3.cdn.digitaloceanspaces.com/wp-content/uploads/2020/04/12135945/When_Malls_Die_2-1.gif\" width=\"400\" height=\"400\">"
   ]
  },
  {
   "cell_type": "markdown",
   "id": "fa60d675",
   "metadata": {
    "papermill": {
     "duration": 0.01259,
     "end_time": "2023-04-26T06:52:54.290952",
     "exception": false,
     "start_time": "2023-04-26T06:52:54.278362",
     "status": "completed"
    },
    "tags": []
   },
   "source": [
    "<img src=\"https://www.vectorlogo.zone/logos/linkedin/linkedin-tile.svg\" align='left' alt=\"plotly\" width=\"60\" height=\"60\"/> </a><a> \n",
    "## [Msc. Diego Hurtado](https://www.linkedin.com/in/diegohurtadoo/)"
   ]
  },
  {
   "cell_type": "markdown",
   "id": "c6f1072b",
   "metadata": {
    "papermill": {
     "duration": 0.012537,
     "end_time": "2023-04-26T06:52:54.316424",
     "exception": false,
     "start_time": "2023-04-26T06:52:54.303887",
     "status": "completed"
    },
    "tags": []
   },
   "source": [
    "<img src=\"https://www.vectorlogo.zone/logos/github/github-tile.svg\" align='left' alt=\"plotly\" width=\"60\" height=\"60\"/> </a><a> \n",
    "## [Msc. Diego Hurtado](https://github.com/DiegoHurtad0)"
   ]
  },
  {
   "cell_type": "markdown",
   "id": "597c4e45",
   "metadata": {
    "papermill": {
     "duration": 0.012548,
     "end_time": "2023-04-26T06:52:54.341937",
     "exception": false,
     "start_time": "2023-04-26T06:52:54.329389",
     "status": "completed"
    },
    "tags": []
   },
   "source": [
    "<img src=\"https://www.vectorlogo.zone/logos/medium/medium-tile.svg\" align='left' alt=\"plotly\" width=\"60\" height=\"60\"/> </a><a> \n",
    "## [Msc. Diego O’HURTADO](https://medium.com/@diego.hurtado.olivares)"
   ]
  },
  {
   "cell_type": "markdown",
   "id": "8e93d2e7",
   "metadata": {
    "papermill": {
     "duration": 0.012463,
     "end_time": "2023-04-26T06:52:54.367320",
     "exception": false,
     "start_time": "2023-04-26T06:52:54.354857",
     "status": "completed"
    },
    "tags": []
   },
   "source": [
    "<img src=\"https://raw.githubusercontent.com/DiegoHurtad0/Covid-19-Dataset-Mexico/master/wave.svg\" width=\"900\" height=\"600\">\n",
    "\n",
    "## [Msc. Diego Hurtado](https://www.linkedin.com/in/diegohurtadoo/)"
   ]
  },
  {
   "cell_type": "markdown",
   "id": "ad416396",
   "metadata": {
    "papermill": {
     "duration": 0.012476,
     "end_time": "2023-04-26T06:52:54.392728",
     "exception": false,
     "start_time": "2023-04-26T06:52:54.380252",
     "status": "completed"
    },
    "tags": []
   },
   "source": [
    "## “When you are asked if you can do a job, tell ’em, ‘Certainly I can!’ Then get busy and find out how to do it.” — Theodore Roosevelt."
   ]
  }
 ],
 "metadata": {
  "kernelspec": {
   "display_name": "Python 3",
   "language": "python",
   "name": "python3"
  },
  "language_info": {
   "codemirror_mode": {
    "name": "ipython",
    "version": 3
   },
   "file_extension": ".py",
   "mimetype": "text/x-python",
   "name": "python",
   "nbconvert_exporter": "python",
   "pygments_lexer": "ipython3",
   "version": "3.7.12"
  },
  "papermill": {
   "default_parameters": {},
   "duration": 180.818268,
   "end_time": "2023-04-26T06:52:57.031220",
   "environment_variables": {},
   "exception": null,
   "input_path": "__notebook__.ipynb",
   "output_path": "__notebook__.ipynb",
   "parameters": {},
   "start_time": "2023-04-26T06:49:56.212952",
   "version": "2.4.0"
  }
 },
 "nbformat": 4,
 "nbformat_minor": 5
}
